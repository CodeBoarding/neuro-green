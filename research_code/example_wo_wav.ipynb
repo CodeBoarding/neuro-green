{
 "cells": [
  {
   "cell_type": "code",
   "execution_count": 1,
   "metadata": {},
   "outputs": [],
   "source": [
    "import numpy as np\n",
    "from torch.utils.data import TensorDataset, DataLoader\n",
    "import torch\n",
    "\n",
    "from research_code.pl_utils import get_green_g2, GreenClassifierLM\n",
    "\n"
   ]
  },
  {
   "cell_type": "code",
   "execution_count": 3,
   "metadata": {},
   "outputs": [],
   "source": [
    "# Create a dummy dataset\n",
    "n = 10 # subjects\n",
    "f = 4 # filterbank size\n",
    "c = 3 # channels \n",
    "\n",
    "U = np.exp(np.random.randn(n, f, c))\n",
    "diag = U[..., np.newaxis] * np.eye(c)\n",
    "V = np.random.randn(n, f, c, c)\n",
    "spd = V @ diag @ np.transpose(V, (0, 1, 3, 2))\n",
    "\n",
    "y = np.random.randint(0, 2, n)\n",
    "\n",
    "dataset = TensorDataset(torch.Tensor(spd), torch.Tensor(y))"
   ]
  },
  {
   "cell_type": "code",
   "execution_count": null,
   "metadata": {},
   "outputs": [],
   "source": [
    "model = get_green_g2(\n",
    "    n_ch=3,\n",
    "    orth_weights=True,\n",
    "    dropout=.5,\n",
    "    hidden_dim=[8],\n",
    "    logref='logeuclid',\n",
    "    bi_out=[2],\n",
    "    dtype=torch.float32,\n",
    "    out_dim=2\n",
    ")\n",
    "model_pl = GreenClassifierLM(model=model,)\n",
    "model_pl"
   ]
  }
 ],
 "metadata": {
  "kernelspec": {
   "display_name": "riemann",
   "language": "python",
   "name": "python3"
  },
  "language_info": {
   "codemirror_mode": {
    "name": "ipython",
    "version": 3
   },
   "file_extension": ".py",
   "mimetype": "text/x-python",
   "name": "python",
   "nbconvert_exporter": "python",
   "pygments_lexer": "ipython3",
   "version": "3.9.0"
  }
 },
 "nbformat": 4,
 "nbformat_minor": 2
}
